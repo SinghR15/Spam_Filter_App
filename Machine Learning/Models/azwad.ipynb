{
 "cells": [
  {
   "cell_type": "code",
   "execution_count": 58,
   "metadata": {},
   "outputs": [],
   "source": [
    "# Torch Imports\n",
    "import torch\n",
    "import torch.nn as nn\n",
    "import torch.nn.functional as F\n",
    "from torchsummary import summary\n",
    "\n",
    "# Numpy Imports\n",
    "import numpy as np\n",
    "\n",
    "# Sklearn Imports\n",
    "from sklearn import metrics\n",
    "from sklearn.model_selection import train_test_split\n",
    "\n",
    "# Matplotlib Imports\n",
    "from matplotlib import pyplot as plt\n",
    "\n",
    "# Feature Engineering Import\n",
    "%run \"../Feature Engineering/azwad.ipynb\""
   ]
  },
  {
   "cell_type": "code",
   "execution_count": 59,
   "metadata": {},
   "outputs": [],
   "source": [
    "# Setting up the Tensors for the model\n",
    "features, labels = featureEngineering(\"../Datasets/spam.csv\")\n",
    "x_train, x_test, y_train, y_test = train_test_split(features, labels, test_size=0.30, random_state=42)\n",
    "x_train = torch.Tensor(torch.from_numpy(x_train.values.astype(np.float32)))\n",
    "x_test = torch.Tensor(torch.from_numpy(x_test.values.astype(np.float32)))\n",
    "y_train = torch.Tensor(torch.from_numpy(y_train.values.astype(np.float32))).reshape(-1,1)\n",
    "y_test = torch.Tensor(torch.from_numpy(y_test.values.astype(np.float32))).reshape(-1,1)"
   ]
  },
  {
   "cell_type": "code",
   "execution_count": 72,
   "metadata": {},
   "outputs": [
    {
     "name": "stdout",
     "output_type": "stream",
     "text": [
      "----------------------------------------------------------------\n",
      "        Layer (type)               Output Shape         Param #\n",
      "================================================================\n",
      "            Linear-1                 [-1, 1, 1]               2\n",
      "           Sigmoid-2                 [-1, 1, 1]               0\n",
      "================================================================\n",
      "Total params: 2\n",
      "Trainable params: 2\n",
      "Non-trainable params: 0\n",
      "----------------------------------------------------------------\n",
      "Input size (MB): 0.00\n",
      "Forward/backward pass size (MB): 0.00\n",
      "Params size (MB): 0.00\n",
      "Estimated Total Size (MB): 0.00\n",
      "----------------------------------------------------------------\n",
      "Final loss: train: 13.534846305847168, test: 13.01645278930664\n",
      "Train Accuracy: 0.8646153846153846, Test Accuracy: 0.8690191387559809\n"
     ]
    },
    {
     "data": {
      "image/png": "[encoded data removed]",
      "text/plain": [
       "<Figure size 432x288 with 1 Axes>"
      ]
     },
     "metadata": {
      "needs_background": "light"
     },
     "output_type": "display_data"
    }
   ],
   "source": [
    "class TorchLogisticRegression(torch.nn.Module):\n",
    "    def __init__(self, input_dimensions):\n",
    "        super(TorchLogisticRegression, self).__init__()\n",
    "        self.linear = torch.nn.Linear(input_dimensions, 1)\n",
    "        self.output = torch.nn.Sigmoid()\n",
    "\n",
    "    def forward(self, x):\n",
    "        output = self.output(self.linear(x))\n",
    "        return output\n",
    "\n",
    "lgr = TorchLogisticRegression(1)\n",
    "summary(lgr, (1, 1)) \n",
    "loss_function = torch.nn.BCELoss() \n",
    "optimizer = torch.optim.SGD(lgr.parameters(), lr=1e-1)\n",
    "\n",
    "errors = []\n",
    "for epoch in range(201):  \n",
    "    optimizer.zero_grad()\n",
    "    outputs = lgr(x_train)\n",
    "    loss = loss_function(outputs, y_train)\n",
    "    errors.append(loss.item())\n",
    "    loss.backward(retain_graph=True)\n",
    "    optimizer.step()\n",
    "plt.plot(errors)\n",
    "\n",
    "y_predicted_train = lgr(x_train)\n",
    "y_predicted_test = lgr(x_test)\n",
    "final_loss_train = loss_function(y_predicted_train, y_train)\n",
    "final_loss_test = loss_function(y_predicted_test, y_test)\n",
    "print(f\"Final loss: train: {final_loss_train}, test: {final_loss_test}\")\n",
    "\n",
    "y_predicted_train_classes = (y_predicted_train.detach().numpy() > 0.5).astype(float)\n",
    "y_predicted_test_classes = (y_predicted_test.detach().numpy() > 0.5).astype(float)\n",
    "train_accuracy = metrics.accuracy_score(y_train, y_predicted_train_classes)\n",
    "test_accuracy = metrics.accuracy_score(y_test, y_predicted_test_classes)\n",
    "print(f\"Train Accuracy: {train_accuracy}, Test Accuracy: {test_accuracy}\")\n"
   ]
  },
  {
   "cell_type": "code",
   "execution_count": 64,
   "metadata": {},
   "outputs": [
    {
     "name": "stdout",
     "output_type": "stream",
     "text": [
      "----------------------------------------------------------------\n",
      "        Layer (type)               Output Shape         Param #\n",
      "================================================================\n",
      "            Linear-1                   [-1, 20]              40\n",
      "            Linear-2                    [-1, 1]              21\n",
      "================================================================\n",
      "Total params: 61\n",
      "Trainable params: 61\n",
      "Non-trainable params: 0\n",
      "----------------------------------------------------------------\n",
      "Input size (MB): 0.00\n",
      "Forward/backward pass size (MB): 0.00\n",
      "Params size (MB): 0.00\n",
      "Estimated Total Size (MB): 0.00\n",
      "----------------------------------------------------------------\n",
      "Final loss: train: 13.538461685180664, test: 13.0980863571167\n",
      "Train Accuracy: 0.8646153846153846, Test Accuracy: 0.8690191387559809\n"
     ]
    },
    {
     "data": {
      "image/png": "[encoded data removed]",
      "text/plain": [
       "<Figure size 432x288 with 1 Axes>"
      ]
     },
     "metadata": {
      "needs_background": "light"
     },
     "output_type": "display_data"
    }
   ],
   "source": [
    "class SimpleNeuralNet(nn.Module):\n",
    "    def __init__(self, hidden_units):\n",
    "        super().__init__()\n",
    "        self.linear = nn.Linear(1, hidden_units)\n",
    "        self.output_layer = nn.Linear(hidden_units, 1)\n",
    "\n",
    "    def forward(self, x):\n",
    "        x = x.view(-1, 1)\n",
    "        z1 = self.linear(x)\n",
    "        a1 = F.relu(z1)\n",
    "        z2 = self.output_layer(a1)\n",
    "        return F.log_softmax(z2, dim=1)\n",
    "\n",
    "nn_model = SimpleNeuralNet(20)\n",
    "summary(nn_model, (1, 1, 1))\n",
    "loss_function = torch.nn.BCELoss() \n",
    "optimizer = torch.optim.SGD(nn_model.parameters(), lr=1e-1)\n",
    "\n",
    "errors = []\n",
    "for epoch in range(200):  \n",
    "    optimizer.zero_grad()\n",
    "    outputs = nn_model(x_train)\n",
    "    loss = loss_function(outputs, y_train)\n",
    "    errors.append(loss.item())\n",
    "    loss.backward(retain_graph=True)\n",
    "    optimizer.step()\n",
    "plt.plot(errors)\n",
    "\n",
    "y_predicted_train = nn_model(x_train)\n",
    "y_predicted_test = nn_model(x_test)\n",
    "final_loss_train = loss_function(y_predicted_train, y_train)\n",
    "final_loss_test = loss_function(y_predicted_test, y_test)\n",
    "print(f\"Final loss: train: {final_loss_train}, test: {final_loss_test}\")\n",
    "\n",
    "y_predicted_train_classes = (y_predicted_train.detach().numpy())\n",
    "y_predicted_test_classes = (y_predicted_test.detach().numpy())\n",
    "train_accuracy = metrics.accuracy_score(y_train, y_predicted_train_classes)\n",
    "test_accuracy = metrics.accuracy_score(y_test, y_predicted_test_classes)\n",
    "print(f\"Train Accuracy: {train_accuracy}, Test Accuracy: {test_accuracy}\")"
   ]
  }
 ],
 "metadata": {
  "interpreter": {
   "hash": "916dbcbb3f70747c44a77c7bcd40155683ae19c65e1c03b4aa3499c5328201f1"
  },
  "kernelspec": {
   "display_name": "Python 3.9.2 64-bit",
   "language": "python",
   "name": "python3"
  },
  "language_info": {
   "codemirror_mode": {
    "name": "ipython",
    "version": 3
   },
   "file_extension": ".py",
   "mimetype": "text/x-python",
   "name": "python",
   "nbconvert_exporter": "python",
   "pygments_lexer": "ipython3",
   "version": "3.9.2"
  },
  "orig_nbformat": 4
 },
 "nbformat": 4,
 "nbformat_minor": 2
}
